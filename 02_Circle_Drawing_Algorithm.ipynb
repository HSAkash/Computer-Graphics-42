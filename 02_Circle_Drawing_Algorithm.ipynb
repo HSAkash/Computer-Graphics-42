{
 "cells": [
  {
   "cell_type": "markdown",
   "metadata": {},
   "source": [
    "# Circle Drawing Algorithm\n",
    "* Polynomial Drawing Algorithm\n",
    "* Polar Drawing Algorithm\n",
    "* Bresenham's Drawing Algorithm\n",
    "* Mid Point Drawing Algorithm"
   ]
  },
  {
   "cell_type": "markdown",
   "metadata": {},
   "source": [
    "## 1. Polynomial Drawing Algorithm"
   ]
  },
  {
   "cell_type": "markdown",
   "metadata": {},
   "source": [
    "### 1.1. Import dependencies"
   ]
  },
  {
   "cell_type": "code",
   "execution_count": 1,
   "metadata": {},
   "outputs": [],
   "source": [
    "import numpy as np\n",
    "import matplotlib.pyplot as plt"
   ]
  },
  {
   "cell_type": "markdown",
   "metadata": {},
   "source": [
    "### 1.2. Variables initialization"
   ]
  },
  {
   "cell_type": "code",
   "execution_count": 24,
   "metadata": {},
   "outputs": [],
   "source": [
    "# x^2 + y^2 = r^2\n",
    "h = 0\n",
    "k = 0\n",
    "r = 5\n",
    "step = 0.01"
   ]
  },
  {
   "cell_type": "markdown",
   "metadata": {},
   "source": [
    "### 1.3. Algorithm\n",
    "* Step 1: Find 1/8 of the circle x coordinates\n",
    "* Step 2: Find 1/8 of the circle y coordinates\n",
    "* Step 3: Find 7/8 of the circle using 1/8 x and y coordinates\n",
    "* Step 4: Add h and k values with x and y coordinates\n",
    "* Step 5: Plot circles"
   ]
  },
  {
   "cell_type": "markdown",
   "metadata": {},
   "source": [
    "#### 1.3.1 Step 1: Find 1/8 of the circle x coordinates"
   ]
  },
  {
   "cell_type": "code",
   "execution_count": 25,
   "metadata": {},
   "outputs": [
    {
     "data": {
      "text/plain": [
       "(354,)"
      ]
     },
     "execution_count": 25,
     "metadata": {},
     "output_type": "execute_result"
    }
   ],
   "source": [
    "x = np.arange(0, r/2**.5, step)\n",
    "x.shape"
   ]
  },
  {
   "cell_type": "markdown",
   "metadata": {},
   "source": [
    "#### 1.3.2. Step 2: Find 1/8 of the circle y coordinates"
   ]
  },
  {
   "cell_type": "code",
   "execution_count": 26,
   "metadata": {},
   "outputs": [
    {
     "data": {
      "text/plain": [
       "(354,)"
      ]
     },
     "execution_count": 26,
     "metadata": {},
     "output_type": "execute_result"
    }
   ],
   "source": [
    "y = (r**2 - x**2)**.5\n",
    "y.shape"
   ]
  },
  {
   "cell_type": "markdown",
   "metadata": {},
   "source": [
    "#### 1.3.3. Step 3: Find 7/8 of the circle using 1/8 x and y coordinates"
   ]
  },
  {
   "cell_type": "code",
   "execution_count": 27,
   "metadata": {},
   "outputs": [],
   "source": [
    "circle = []\n",
    "circle.append(np.array([x, y]).T)\n",
    "circle.append(np.array([y, x]).T)\n",
    "circle.append(np.array([y, -x]).T)\n",
    "circle.append(np.array([x, -y]).T)\n",
    "circle.append(np.array([-x, -y]).T)\n",
    "circle.append(np.array([-y, -x]).T)\n",
    "circle.append(np.array([-y, x]).T)\n",
    "circle.append(np.array([-x, y]).T)\n",
    "circle = np.array(circle)"
   ]
  },
  {
   "cell_type": "markdown",
   "metadata": {},
   "source": [
    "#### 1.3.4. Step 4: Add h and k values with x and y coordinates"
   ]
  },
  {
   "cell_type": "code",
   "execution_count": 28,
   "metadata": {},
   "outputs": [],
   "source": [
    "# add h and k \n",
    "circle = circle + np.array([h, k])"
   ]
  },
  {
   "cell_type": "markdown",
   "metadata": {},
   "source": [
    "#### 1.3.4. Step 4: Plot circles"
   ]
  },
  {
   "cell_type": "code",
   "execution_count": 29,
   "metadata": {},
   "outputs": [
    {
     "data": {
      "image/png": "[encoded data removed]",
      "text/plain": [
       "<Figure size 500x500 with 1 Axes>"
      ]
     },
     "metadata": {},
     "output_type": "display_data"
    }
   ],
   "source": [
    "plt.figure(figsize=(5,5))\n",
    "for i in range(8):\n",
    "    plt.plot(circle[i][:,0], circle[i][:,1])\n",
    "plt.plot(h,k,'ro')\n",
    "plt.show()"
   ]
  },
  {
   "cell_type": "markdown",
   "metadata": {},
   "source": [
    "## 2. Polar Drawing Algorithm"
   ]
  },
  {
   "cell_type": "markdown",
   "metadata": {},
   "source": [
    "### 2.1. Import dependencies"
   ]
  },
  {
   "cell_type": "code",
   "execution_count": 37,
   "metadata": {},
   "outputs": [],
   "source": [
    "import numpy as np\n",
    "import matplotlib.pyplot as plt"
   ]
  },
  {
   "cell_type": "markdown",
   "metadata": {},
   "source": [
    "### 2.2. Variables initialization"
   ]
  },
  {
   "cell_type": "code",
   "execution_count": 38,
   "metadata": {},
   "outputs": [],
   "source": [
    "# x^2 + y^2 = r^2\n",
    "h = 0\n",
    "k = 0\n",
    "r = 5\n",
    "step = 0.01"
   ]
  },
  {
   "cell_type": "markdown",
   "metadata": {},
   "source": [
    "### 2.3. Algorithm\n",
    "* Step 1: Find theta 0-pi/4\n",
    "* Step 2: Find 1/8 of the circle x and y coordinates\n",
    "* Step 3: Find 7/8 of the circle using 1/8 x and y coordinates\n",
    "* Step 4: Add h and k values with x and y coordinates\n",
    "* Step 5: Plot circles"
   ]
  },
  {
   "cell_type": "markdown",
   "metadata": {},
   "source": [
    "#### 2.3.1 Step 1: Find theta 0-pi/4"
   ]
  },
  {
   "cell_type": "code",
   "execution_count": 39,
   "metadata": {},
   "outputs": [
    {
     "data": {
      "text/plain": [
       "(79,)"
      ]
     },
     "execution_count": 39,
     "metadata": {},
     "output_type": "execute_result"
    }
   ],
   "source": [
    "theta = np.arange(0, np.pi/4, step)\n",
    "theta.shape"
   ]
  },
  {
   "cell_type": "markdown",
   "metadata": {},
   "source": [
    "#### 2.3.2. Step 2: Find 1/8 of the circle x and y coordinates"
   ]
  },
  {
   "cell_type": "code",
   "execution_count": 40,
   "metadata": {},
   "outputs": [
    {
     "data": {
      "text/plain": [
       "((79,), (79,))"
      ]
     },
     "execution_count": 40,
     "metadata": {},
     "output_type": "execute_result"
    }
   ],
   "source": [
    "x = r * np.cos(theta)\n",
    "y = r * np.sin(theta)\n",
    "x.shape, y.shape"
   ]
  },
  {
   "cell_type": "markdown",
   "metadata": {},
   "source": [
    "#### 2.3.3. Step 3: Find 7/8 of the circle using 1/8 x and y coordinates"
   ]
  },
  {
   "cell_type": "code",
   "execution_count": 41,
   "metadata": {},
   "outputs": [],
   "source": [
    "circle = []\n",
    "circle.append(np.array([y, x]).T)\n",
    "circle.append(np.array([x, y]).T)\n",
    "circle.append(np.array([x, -y]).T)\n",
    "circle.append(np.array([y, -x]).T)\n",
    "circle.append(np.array([-y, -x]).T)\n",
    "circle.append(np.array([-x, -y]).T)\n",
    "circle.append(np.array([-x, y]).T)\n",
    "circle.append(np.array([-y, x]).T)\n",
    "circle = np.array(circle)"
   ]
  },
  {
   "cell_type": "markdown",
   "metadata": {},
   "source": [
    "#### 2.3.4. Step 4: Add h and k values with x and y coordinates"
   ]
  },
  {
   "cell_type": "code",
   "execution_count": 42,
   "metadata": {},
   "outputs": [],
   "source": [
    "# add h and k \n",
    "circle = circle + np.array([h, k])"
   ]
  },
  {
   "cell_type": "markdown",
   "metadata": {},
   "source": [
    "#### 2.3.5 . * Step 5: Plot circles"
   ]
  },
  {
   "cell_type": "code",
   "execution_count": 43,
   "metadata": {},
   "outputs": [
    {
     "data": {
      "image/png": "[encoded data removed]",
      "text/plain": [
       "<Figure size 500x500 with 1 Axes>"
      ]
     },
     "metadata": {},
     "output_type": "display_data"
    }
   ],
   "source": [
    "plt.figure(figsize=(5,5))\n",
    "for i in range(8):\n",
    "    plt.plot(circle[i][:,0], circle[i][:,1])\n",
    "plt.plot(h,k,'ro')\n",
    "plt.show()"
   ]
  },
  {
   "cell_type": "markdown",
   "metadata": {},
   "source": [
    "## 3. Bresenham's Drawing Algorithm"
   ]
  },
  {
   "cell_type": "markdown",
   "metadata": {},
   "source": [
    "### 3.1. Import dependencies"
   ]
  },
  {
   "cell_type": "code",
   "execution_count": 73,
   "metadata": {},
   "outputs": [],
   "source": [
    "import numpy as np\n",
    "import matplotlib.pyplot as plt"
   ]
  },
  {
   "cell_type": "markdown",
   "metadata": {},
   "source": [
    "### 3.2. Variables initialization"
   ]
  },
  {
   "cell_type": "code",
   "execution_count": 74,
   "metadata": {},
   "outputs": [],
   "source": [
    "# x^2 + y^2 = r^2\n",
    "factor = 1\n",
    "h = 0 * factor\n",
    "k = 0 * factor\n",
    "r = 5 * factor\n",
    "\n"
   ]
  },
  {
   "cell_type": "markdown",
   "metadata": {},
   "source": [
    "### 3.3. Algorithm\n",
    "* Step 1: Find 1/8 of the circle x and y coordinates\n",
    "* Step 2: Find 7/8 of the circle using 1/8 x and y coordinates\n",
    "* Step 3: Add h and k values with x and y coordinates\n",
    "* Step 5: Circle calculate with factor\n",
    "* Step 6: Plot the circle"
   ]
  },
  {
   "cell_type": "markdown",
   "metadata": {},
   "source": [
    "#### 3.3.1. Find 1/8 of the circle x and y coordinates"
   ]
  },
  {
   "cell_type": "code",
   "execution_count": 75,
   "metadata": {},
   "outputs": [
    {
     "data": {
      "text/plain": [
       "((4,), (4,))"
      ]
     },
     "execution_count": 75,
     "metadata": {},
     "output_type": "execute_result"
    }
   ],
   "source": [
    "# Step 1: set X0, Y0 \n",
    "x = [0]\n",
    "y = [r]\n",
    "\n",
    "# Step 2: Finding discision parameter p = 3-2R\n",
    "p = 3 - 2 * r\n",
    "\n",
    "# Step 3: finding 1/8 circle potions\n",
    "while x[-1] < y[-1]:\n",
    "    x.append(x[-1] + 1)\n",
    "    if p < 0:\n",
    "        y.append(y[-1])\n",
    "        p = p + 4 * x[-1] + 6\n",
    "    else:\n",
    "        y.append(y[-1] - 1)\n",
    "        p = p + 4 * (x[-1] - y[-1]) + 10\n",
    "\n",
    "x = np.array(x)\n",
    "y = np.array(y)\n",
    "x.shape, y.shape"
   ]
  },
  {
   "cell_type": "markdown",
   "metadata": {},
   "source": [
    "#### 3.3.2. Step 2: Find 7/8 of the circle using 1/8 x and y coordinates"
   ]
  },
  {
   "cell_type": "code",
   "execution_count": 76,
   "metadata": {},
   "outputs": [],
   "source": [
    "circle = []\n",
    "circle.append(np.array([x, y]).T)\n",
    "circle.append(np.array([y, x]).T)\n",
    "circle.append(np.array([y, -x]).T)\n",
    "circle.append(np.array([x, -y]).T)\n",
    "circle.append(np.array([-x, -y]).T)\n",
    "circle.append(np.array([-y, -x]).T)\n",
    "circle.append(np.array([-y, x]).T)\n",
    "circle.append(np.array([-x, y]).T)\n",
    "circle = np.array(circle)"
   ]
  },
  {
   "cell_type": "markdown",
   "metadata": {},
   "source": [
    "#### 3.3.3. Step 3: Add h and k values with x and y coordinates"
   ]
  },
  {
   "cell_type": "code",
   "execution_count": 77,
   "metadata": {},
   "outputs": [],
   "source": [
    "# add h and k \n",
    "circle = circle + np.array([h, k])"
   ]
  },
  {
   "cell_type": "markdown",
   "metadata": {},
   "source": [
    "#### 3.3.4. Step 4: Circle with factor 20"
   ]
  },
  {
   "cell_type": "code",
   "execution_count": 78,
   "metadata": {},
   "outputs": [],
   "source": [
    "# x^2 + y^2 = r^2\n",
    "factor = 20\n",
    "f_h = 0 * factor\n",
    "f_k = 0 * factor\n",
    "f_r = 5 * factor\n",
    "\n",
    "# Step 1: set X0, Y0 \n",
    "x = [0]\n",
    "y = [f_r]\n",
    "\n",
    "# Step 2: Finding discision parameter p = 3-2R\n",
    "p = 3 - 2 * f_r\n",
    "\n",
    "# Step 3: finding 1/8 circle potions\n",
    "while x[-1] < y[-1]:\n",
    "    x.append(x[-1] + 1)\n",
    "    if p < 0:\n",
    "        y.append(y[-1])\n",
    "        p = p + 4 * x[-1] + 6\n",
    "    else:\n",
    "        y.append(y[-1] - 1)\n",
    "        p = p + 4 * (x[-1] - y[-1]) + 10\n",
    "\n",
    "x = np.array(x)\n",
    "y = np.array(y)\n",
    "\n",
    "f_circle = []\n",
    "f_circle.append(np.array([x, y]).T)\n",
    "f_circle.append(np.array([y, x]).T)\n",
    "f_circle.append(np.array([y, -x]).T)\n",
    "f_circle.append(np.array([x, -y]).T)\n",
    "f_circle.append(np.array([-x, -y]).T)\n",
    "f_circle.append(np.array([-y, -x]).T)\n",
    "f_circle.append(np.array([-y, x]).T)\n",
    "f_circle.append(np.array([-x, y]).T)\n",
    "f_circle = np.array(f_circle)\n",
    "\n",
    "\n",
    "# add h and k \n",
    "f_circle = f_circle + np.array([f_h, f_k])"
   ]
  },
  {
   "cell_type": "markdown",
   "metadata": {},
   "source": [
    "#### 3.3.5. Step 5: Plot Circle"
   ]
  },
  {
   "cell_type": "code",
   "execution_count": 81,
   "metadata": {},
   "outputs": [
    {
     "data": {
      "image/png": "[encoded data removed]",
      "text/plain": [
       "<Figure size 1100x500 with 2 Axes>"
      ]
     },
     "metadata": {},
     "output_type": "display_data"
    }
   ],
   "source": [
    "# initialize the figure\n",
    "fig, ax = plt.subplots(nrows=1, ncols=2,figsize=(11,5))\n",
    "\n",
    "# plot the Normal distance between points\n",
    "for i in range(8):\n",
    "    ax[0].plot(circle[i][:,0], circle[i][:,1])\n",
    "ax[0].plot(h,k,'ro')\n",
    "ax[0].set(\n",
    "    title = 'Bresenham Circle',\n",
    ")\n",
    "\n",
    "# coordinate multiplication factor\n",
    "xlabels = np.arange(h-r, h+r+1)\n",
    "ylabels = np.arange(k-r, k+r+1)\n",
    "for i in range(8):\n",
    "    ax[1].plot(f_circle[i][:,0], f_circle[i][:,1])\n",
    "ax[1].plot(f_h,f_k,'ro')\n",
    "\n",
    "ax[1].set(\n",
    "    title = f'Bresenham Circle (Factor {factor})',\n",
    "    xticks = np.linspace(f_h - f_r, f_h + f_r, xlabels.shape[0]),\n",
    "    yticks = np.linspace(f_k - f_r, f_k + f_r,  ylabels.shape[0]),\n",
    "    xticklabels = xlabels,\n",
    "    yticklabels = ylabels\n",
    "    \n",
    ")\n",
    "plt.show()\n",
    "\n",
    "\n",
    "\n"
   ]
  },
  {
   "cell_type": "markdown",
   "metadata": {},
   "source": [
    "## 4. Mid Point Drawing Algorithm"
   ]
  },
  {
   "cell_type": "markdown",
   "metadata": {},
   "source": [
    "### 4.1. Import dependencies"
   ]
  },
  {
   "cell_type": "code",
   "execution_count": 82,
   "metadata": {},
   "outputs": [],
   "source": [
    "import numpy as np\n",
    "import matplotlib.pyplot as plt"
   ]
  },
  {
   "cell_type": "markdown",
   "metadata": {},
   "source": [
    "### 4.2. Variables initialization"
   ]
  },
  {
   "cell_type": "code",
   "execution_count": 83,
   "metadata": {},
   "outputs": [],
   "source": [
    "# x^2 + y^2 = r^2\n",
    "factor = 1\n",
    "h = 0 * factor\n",
    "k = 0 * factor\n",
    "r = 5 * factor"
   ]
  },
  {
   "cell_type": "markdown",
   "metadata": {},
   "source": [
    "### 4.3. Algorithm\n",
    "* Step 1: Find 1/8 of the circle x and y coordinates\n",
    "* Step 2: Find 7/8 of the circle using 1/8 x and y coordinates\n",
    "* Step 3: Add h and k values with x and y coordinates\n",
    "* Step 4: Circle calculate with factor\n",
    "* Step 5: Plot the circle"
   ]
  },
  {
   "cell_type": "markdown",
   "metadata": {},
   "source": [
    "#### 4.3.1. Find 1/8 of the circle x and y coordinates"
   ]
  },
  {
   "cell_type": "code",
   "execution_count": 96,
   "metadata": {},
   "outputs": [
    {
     "data": {
      "text/plain": [
       "((5,), (5,))"
      ]
     },
     "execution_count": 96,
     "metadata": {},
     "output_type": "execute_result"
    }
   ],
   "source": [
    "# Step 1: set X0, Y0 \n",
    "x = [0]\n",
    "y = [r]\n",
    "\n",
    "# Step 2: Finding discision parameter p = 1 - R\n",
    "p = 1 - r\n",
    "\n",
    "# Step 3: finding 1/8 circle potions\n",
    "while x[-1] < y[-1]:\n",
    "    x.append(x[-1] + 1)\n",
    "    if p < 0:\n",
    "        y.append(y[-1])\n",
    "        p = p + 2 * x[-1] + 1\n",
    "    else:\n",
    "        y.append(y[-1] - 1)\n",
    "        p = p + 2 * x[-1] - 2 * y[-1] + 1\n",
    "\n",
    "x = np.array(x)\n",
    "y = np.array(y)\n",
    "x.shape, y.shape"
   ]
  },
  {
   "cell_type": "markdown",
   "metadata": {},
   "source": [
    "#### 4.3.2. Step 2: Find 7/8 of the circle using 1/8 x and y coordinates"
   ]
  },
  {
   "cell_type": "code",
   "execution_count": 97,
   "metadata": {},
   "outputs": [],
   "source": [
    "circle = []\n",
    "circle.append(np.array([x, y]).T)\n",
    "circle.append(np.array([y, x]).T)\n",
    "circle.append(np.array([y, -x]).T)\n",
    "circle.append(np.array([x, -y]).T)\n",
    "circle.append(np.array([-x, -y]).T)\n",
    "circle.append(np.array([-y, -x]).T)\n",
    "circle.append(np.array([-y, x]).T)\n",
    "circle.append(np.array([-x, y]).T)\n",
    "circle = np.array(circle)"
   ]
  },
  {
   "cell_type": "markdown",
   "metadata": {},
   "source": [
    "#### 4.3.3. Step 3: Add h and k values with x and y coordinates"
   ]
  },
  {
   "cell_type": "code",
   "execution_count": 98,
   "metadata": {},
   "outputs": [],
   "source": [
    "# add h and k \n",
    "circle = circle + np.array([h, k])"
   ]
  },
  {
   "cell_type": "markdown",
   "metadata": {},
   "source": [
    "#### 4.3.4. Step 4: Circle with factor 20"
   ]
  },
  {
   "cell_type": "code",
   "execution_count": 101,
   "metadata": {},
   "outputs": [],
   "source": [
    "# x^2 + y^2 = r^2\n",
    "factor = 200\n",
    "f_h = 0 * factor\n",
    "f_k = 0 * factor\n",
    "f_r = 5 * factor\n",
    "\n",
    "# Step 1: set X0, Y0 \n",
    "x = [0]\n",
    "y = [f_r]\n",
    "\n",
    "# Step 2: Finding discision parameter p = 1 - R\n",
    "p = 1 - f_r\n",
    "\n",
    "# Step 3: finding 1/8 circle potions\n",
    "while x[-1] < y[-1]:\n",
    "    x.append(x[-1] + 1)\n",
    "    if p < 0:\n",
    "        y.append(y[-1])\n",
    "        p = p + 2 * x[-1] + 1\n",
    "    else:\n",
    "        y.append(y[-1] - 1)\n",
    "        p = p + 2 * x[-1] - 2 * y[-1] + 1\n",
    "\n",
    "x = np.array(x)\n",
    "y = np.array(y)\n",
    "\n",
    "f_circle = []\n",
    "f_circle.append(np.array([x, y]).T)\n",
    "f_circle.append(np.array([y, x]).T)\n",
    "f_circle.append(np.array([y, -x]).T)\n",
    "f_circle.append(np.array([x, -y]).T)\n",
    "f_circle.append(np.array([-x, -y]).T)\n",
    "f_circle.append(np.array([-y, -x]).T)\n",
    "f_circle.append(np.array([-y, x]).T)\n",
    "f_circle.append(np.array([-x, y]).T)\n",
    "f_circle = np.array(f_circle)\n",
    "\n",
    "\n",
    "# add h and k \n",
    "f_circle = f_circle + np.array([f_h, f_k])"
   ]
  },
  {
   "cell_type": "markdown",
   "metadata": {},
   "source": [
    "#### 4.3.5. Step 5: Plot Circle"
   ]
  },
  {
   "cell_type": "code",
   "execution_count": 102,
   "metadata": {},
   "outputs": [
    {
     "data": {
      "image/png": "[encoded data removed]",
      "text/plain": [
       "<Figure size 1100x500 with 2 Axes>"
      ]
     },
     "metadata": {},
     "output_type": "display_data"
    }
   ],
   "source": [
    "# initialize the figure\n",
    "fig, ax = plt.subplots(nrows=1, ncols=2,figsize=(11,5))\n",
    "\n",
    "# plot the Normal distance between points\n",
    "for i in range(8):\n",
    "    ax[0].plot(circle[i][:,0], circle[i][:,1])\n",
    "ax[0].plot(h,k,'ro')\n",
    "ax[0].set(\n",
    "    title = 'Mid point Circle',\n",
    ")\n",
    "\n",
    "# coordinate multiplication factor\n",
    "xlabels = np.arange(h-r, h+r+1)\n",
    "ylabels = np.arange(k-r, k+r+1)\n",
    "for i in range(8):\n",
    "    ax[1].plot(f_circle[i][:,0], f_circle[i][:,1])\n",
    "ax[1].plot(f_h,f_k,'ro')\n",
    "\n",
    "ax[1].set(\n",
    "    title = f'Mid Point Circle (Factor {factor})',\n",
    "    xticks = np.linspace(f_h - f_r, f_h + f_r, xlabels.shape[0]),\n",
    "    yticks = np.linspace(f_k - f_r, f_k + f_r,  ylabels.shape[0]),\n",
    "    xticklabels = xlabels,\n",
    "    yticklabels = ylabels\n",
    "    \n",
    ")\n",
    "plt.show()\n",
    "\n",
    "\n",
    "\n"
   ]
  },
  {
   "cell_type": "code",
   "execution_count": null,
   "metadata": {},
   "outputs": [],
   "source": []
  }
 ],
 "metadata": {
  "kernelspec": {
   "display_name": "Python 3 (ipykernel)",
   "language": "python",
   "name": "python3"
  },
  "language_info": {
   "codemirror_mode": {
    "name": "ipython",
    "version": 3
   },
   "file_extension": ".py",
   "mimetype": "text/x-python",
   "name": "python",
   "nbconvert_exporter": "python",
   "pygments_lexer": "ipython3",
   "version": "3.10.12"
  }
 },
 "nbformat": 4,
 "nbformat_minor": 4
}
